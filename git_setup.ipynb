# ========================================
# 🚀 Google Colab × GitHub 初期セットアップ
# ========================================

import os
import getpass
from google.colab import drive

print("=== Google Colab × GitHub セットアップ ===")

# 1. Google Drive マウント
print("1. Google Drive マウント中...")
drive.mount('/content/drive')

# 2. プロジェクトディレクトリ作成
project_name = "ml-project"  # ← プロジェクト名を変更
project_path = f"/content/drive/MyDrive/{project_name}"

os.makedirs(project_path, exist_ok=True)
os.chdir(project_path)
print(f"📁 プロジェクトディレクトリ: {project_path}")

# 3. プロジェクト構造作成
directories = [
    "notebooks",     # Jupyter ノートブック
    "src",          # Pythonスクリプト
    "data",         # データファイル
    "models",       # 学習済みモデル
    "reports",      # 分析レポート
]

for dir_name in directories:
    os.makedirs(dir_name, exist_ok=True)
    print(f"📁 作成: {dir_name}/")

# 4. Git設定
print("\n=== Git設定 ===")
!git config --global user.name "moka20030107"      # ← あなたの名前
!git config --global user.email "moka20030107@gmail.com"  # ← あなたのメール

# 5. GitHub認証設定
print("\n=== GitHub認証設定 ===")
print("GitHub Personal Access Token を入力してください")
token = getpass.getpass('GitHub Token: ')

# 6. Gitリポジトリ初期化
if not os.path.exists('.git'):
    !git init
    !git remote add origin https://github.com/moka20030107/ml-project  # ← あなたのリポジトリURL

# 認証付きURLでリモート設定
username = "moka20030107"  # ← GitHubユーザー名
repo_name = "ml-project"     # ← リポジトリ名
auth_url = f"https://{token}@github.com/{username}/{repo_name}.git"
!git remote set-url origin {auth_url}

# セキュリティのためToken変数を削除
del token

# 7. README.md作成
readme_content = f"""# {project_name}

## 概要
機械学習プロジェクトの説明

## ディレクトリ構成

├── notebooks/   # 分析ノートブック
├── src/        # Pythonスクリプト
├── data/       # データファイル
├── models/     # 学習済みモデル
└── reports/    # 分析レポート


## 実行環境
- Google Colab
- Python 3.x
"""

with open("README.md", "w", encoding="utf-8") as f:
    f.write(readme_content)

# 8. .gitignore作成
gitignore_content = """# Python
__pycache__/
*.py[cod]
*.so

# Jupyter Notebook
.ipynb_checkpoints

# Data files
*.csv
*.xlsx

# Models
*.pkl
*.h5

# Environment
.env
"""

with open(".gitignore", "w", encoding="utf-8") as f:
    f.write(gitignore_content)

# 9. 初回コミット
print("\n=== 初回コミット ===")
!git add .
!git commit -m "Initial commit: プロジェクト初期設定"
!git push -u origin main

print("\n✅ セットアップ完了!")
