# ========================================
# 💾 日常コミット用（これだけ実行すればOK）
# ========================================

# === 設定（ここだけ変更） ===
MESSAGE = "今日の作業内容をここに書く"  # ← ここだけ変更してください

# === 実行（変更不要） ===
import os
from google.colab import drive

# Google Drive マウント
drive.mount('/content/drive')

# プロジェクトフォルダに移動
os.chdir('/content/drive/MyDrive/ml-project')  # ← プロジェクト名に合わせて変更

# Git設定（毎回実行で安全）
!git config --global user.name "Your Name"
!git config --global user.email "your@email.com"

# コミット実行
print(f"💾 コミット中: {MESSAGE}")
!git add .
!git commit -m "{MESSAGE}"
!git push origin main
print("✅ 完了!")
